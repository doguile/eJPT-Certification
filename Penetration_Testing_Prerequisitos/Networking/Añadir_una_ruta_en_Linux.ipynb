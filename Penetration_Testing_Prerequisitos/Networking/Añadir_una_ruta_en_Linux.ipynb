{
 "cells": [
  {
   "cell_type": "markdown",
   "id": "ddf90586",
   "metadata": {},
   "source": [
    "#### [eJPT] Añadiendo una ruta en Linux"
   ]
  },
  {
   "cell_type": "code",
   "execution_count": null,
   "id": "56b93e0e",
   "metadata": {},
   "outputs": [],
   "source": [
    "root@doguileo:~$ ip route add 192.168.222.0/24 (ip_dest) via 10.175.34.1(ip_source)\n",
    "\n",
    "### Verificamos que la ruta fue añadida mediante estos dos comandos\n",
    "root@doguileo:~$ netstat -rn or route\n",
    "Kernel IP routing table\n",
    "Destination     Gateway         Genmask         Flags   MSS Window  irtt Iface\n",
    "...\n",
    "192.168.222.0     10.175.34.1     255.255.255.0   UG        0 0          0 tap0\n",
    "..."
   ]
  },
  {
   "cell_type": "code",
   "execution_count": null,
   "id": "926ec127",
   "metadata": {},
   "outputs": [],
   "source": []
  }
 ],
 "metadata": {
  "kernelspec": {
   "display_name": "Python 3",
   "language": "python",
   "name": "python3"
  },
  "language_info": {
   "codemirror_mode": {
    "name": "ipython",
    "version": 3
   },
   "file_extension": ".py",
   "mimetype": "text/x-python",
   "name": "python",
   "nbconvert_exporter": "python",
   "pygments_lexer": "ipython3",
   "version": "3.7.10"
  }
 },
 "nbformat": 4,
 "nbformat_minor": 5
}
