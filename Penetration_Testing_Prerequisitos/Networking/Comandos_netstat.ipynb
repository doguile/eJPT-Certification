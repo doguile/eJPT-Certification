{
 "cells": [
  {
   "cell_type": "markdown",
   "id": "ea7072c7",
   "metadata": {},
   "source": [
    "#### Comandos netstat\n",
    "Para poder verificar los puertos en escucha de las conexiones TCP se puede usar:\n",
    "+ `netstat -ano`  en windows\n",
    "+ `netstat -tunp`  en Linux\n",
    "+ `netsta -p tcp -p udp lsof -n -i4TCP -i4UDP`  en MacOS"
   ]
  },
  {
   "cell_type": "markdown",
   "id": "b39d462f",
   "metadata": {},
   "source": [
    "Otra herramienta muy buena para windwos es `TCPView`"
   ]
  },
  {
   "cell_type": "markdown",
   "id": "faa8a3b6",
   "metadata": {},
   "source": []
  }
 ],
 "metadata": {
  "kernelspec": {
   "display_name": "Python 3",
   "language": "python",
   "name": "python3"
  },
  "language_info": {
   "codemirror_mode": {
    "name": "ipython",
    "version": 3
   },
   "file_extension": ".py",
   "mimetype": "text/x-python",
   "name": "python",
   "nbconvert_exporter": "python",
   "pygments_lexer": "ipython3",
   "version": "3.7.10"
  }
 },
 "nbformat": 4,
 "nbformat_minor": 5
}
