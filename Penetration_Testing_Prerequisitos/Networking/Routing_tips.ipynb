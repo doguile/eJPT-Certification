{
 "cells": [
  {
   "cell_type": "markdown",
   "id": "a33f0da2",
   "metadata": {},
   "source": [
    "## Routing\n",
    "El paquete necesita seguir un camino valido para llegar al destinatario.\n",
    "\n",
    "## Metricas de enrutamiento\n",
    "Durante el descubrimiento del camino, los protocolos de enrutamiento tambien asignan una métrica a cada enlace.\n",
    "Esto asegura que si dos caminos tienen el mismo numero de saltos, la ruta mas rapida se seleccionará."
   ]
  },
  {
   "cell_type": "markdown",
   "id": "959e6742",
   "metadata": {},
   "source": [
    "#### Para verificar la tabla de rutas se deben usar los siguientes comandos:\n",
    "\n",
    " + `ip route` - en Linux\n",
    " + `route print` - en Windows\n",
    " + `netstat -r` - en OSX"
   ]
  },
  {
   "cell_type": "markdown",
   "id": "673d48ed",
   "metadata": {},
   "source": [
    "#### Para listar las MAC address de la tarjeta de red en un host:\n",
    "\n",
    " + `ipconfig/all` - en Windows\n",
    " + `ifconfig` - en sistemas operativos nix, como MacOS\n",
    " + `ip addr` - en Linux"
   ]
  },
  {
   "cell_type": "markdown",
   "id": "42694085",
   "metadata": {},
   "source": [
    "##### Para verificar la tabla ARP de un host:\n",
    "\n",
    " + `arp -a` - en Windows\n",
    " + `arp` - en sistemas operativos nix\n",
    " + `ip neighbour` - en Linux"
   ]
  }
 ],
 "metadata": {
  "kernelspec": {
   "display_name": "Python 3",
   "language": "python",
   "name": "python3"
  },
  "language_info": {
   "codemirror_mode": {
    "name": "ipython",
    "version": 3
   },
   "file_extension": ".py",
   "mimetype": "text/x-python",
   "name": "python",
   "nbconvert_exporter": "python",
   "pygments_lexer": "ipython3",
   "version": "3.7.10"
  }
 },
 "nbformat": 4,
 "nbformat_minor": 5
}
